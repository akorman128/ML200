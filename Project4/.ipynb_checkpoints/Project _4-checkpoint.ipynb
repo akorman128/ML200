{
 "cells": [
  {
   "cell_type": "markdown",
   "metadata": {},
   "source": [
    "# Project 4 - Fitting from Scratch\n",
    "\n",
    "In this notebook, you will write code that will:\n",
    "-  generate a dataset, \n",
    "-  model it using a polynomial regression, \n",
    "-  and find the optimal model parameters for it (writing your own optimization routine).\n",
    "\n",
    "All of the parts of this are meant to be done \"from scratch\", so do not use sklearn. (numpy's ok)  \n",
    "Note: this is a continuation of the exercise we started in class previously.  "
   ]
  },
  {
   "cell_type": "code",
   "execution_count": 9,
   "metadata": {},
   "outputs": [],
   "source": [
    "import numpy as np\n",
    "import matplotlib.pyplot as plt"
   ]
  },
  {
   "cell_type": "markdown",
   "metadata": {},
   "source": [
    "## Dataset\n",
    "Create a dataset with 1,000 X and y values, each w/ a small amount of added uniform random noise (max val = 0.1)\n",
    "\n",
    "-  make X go from -5 to 5 (plus noise)\n",
    "-  make y = sin(x)  (plus noise)"
   ]
  },
  {
   "cell_type": "code",
   "execution_count": 10,
   "metadata": {},
   "outputs": [],
   "source": [
    "noise_range = .1\n",
    "\n",
    "noise = noise_range * np.random.rand(1000,1)\n",
    "x = (10* np.random.rand(1000,1) -5 + noise)\n"
   ]
  },
  {
   "cell_type": "code",
   "execution_count": 17,
   "metadata": {},
   "outputs": [],
   "source": [
    "noise = noise_range * np.random.rand(1000,1)\n",
    "y = np.sin(x) + noise\n"
   ]
  },
  {
   "cell_type": "code",
   "execution_count": 18,
   "metadata": {},
   "outputs": [
    {
     "data": {
      "text/plain": [
       "<matplotlib.collections.PathCollection at 0x11922fc50>"
      ]
     },
     "execution_count": 18,
     "metadata": {},
     "output_type": "execute_result"
    },
    {
     "data": {
      "image/png": "[encoded data removed]",
      "text/plain": [
       "<Figure size 432x288 with 1 Axes>"
      ]
     },
     "metadata": {
      "needs_background": "light"
     },
     "output_type": "display_data"
    }
   ],
   "source": [
    "plt.scatter(x,y)"
   ]
  },
  {
   "cell_type": "markdown",
   "metadata": {},
   "source": [
    "## Augment X\n",
    "Write a function that adds new columns to the dataset of powers of X, up to and including X**5"
   ]
  },
  {
   "cell_type": "code",
   "execution_count": 19,
   "metadata": {},
   "outputs": [],
   "source": [
    "#write a function that adds new columns to the dataset of powers of x, up to and including x**n\n",
    "def new_col(array, n):\n",
    "    length = len(array)\n",
    "    # matrix of 0s, length rows by n columns\n",
    "    matrix = np.zeros((length,n+1))\n",
    "    \n",
    "    for i in range(n+1):\n",
    "        matrix[:,i] = np.reshape(array**(i),(1000,))\n",
    "    return matrix"
   ]
  },
  {
   "cell_type": "code",
   "execution_count": 45,
   "metadata": {},
   "outputs": [],
   "source": [
    "#0th – 5th degree\n",
    "model_degree = 5\n",
    "matrix = new_col(x,model_degree)\n"
   ]
  },
  {
   "cell_type": "markdown",
   "metadata": {},
   "source": [
    "## Fit a Linear Regression model to the training data\n",
    "Assume that we have a polynomial regression model\n",
    "\\begin{equation*}\n",
    "y(X;\\theta) = \\theta_0 + \\theta_1 x + \\theta_2 x^2 +\\theta_3 x^3 +\\theta_4 x^4 +\\theta_5 x^5 \n",
    "\\end{equation*}\n",
    "\n",
    "Assume that we're using a mean squared error function.\n",
    "\n",
    "-  Find the optimal value of theta (ie theta_0 through theta_5). Note: Refer to Ch. 4, Eqn's 4.6 and 4.7.\n",
    "\n",
    "-  Try this for 3 different values of alpha.  Note how long it takes for the optimization to converge (or if it doesn't).\n"
   ]
  },
  {
   "cell_type": "code",
   "execution_count": 52,
   "metadata": {},
   "outputs": [],
   "source": [
    "\n",
    "def lin_reg(eta, n_iterations, m, matrix):\n",
    "            \n",
    "    theta = np.random.randn(matrix.shape[1],1) # 6 x 1 (#of xs)\n",
    "#     theta = np.random.rand(matrix.shape[1],1)*10 - 5 \n",
    "\n",
    "    for iterations in range(n_iterations):    \n",
    "        gradients = 2/m * matrix.T.dot(matrix.dot(theta) - y)\n",
    "        theta = theta - eta * gradients\n",
    "            \n",
    "        if np.isnan(theta).any() == True:\n",
    "            print(iterations) \n",
    "            \n",
    "    return theta\n",
    "            \n",
    "theta = lin_reg(1e-8, 1000000,matrix.shape[0],matrix)"
   ]
  },
  {
   "cell_type": "markdown",
   "metadata": {},
   "source": [
    "## Plot the Final Model\n",
    "Make a plot showing the (X,y) data points of the training set, and superimpose the line for the model on the same plot."
   ]
  },
  {
   "cell_type": "code",
   "execution_count": 59,
   "metadata": {},
   "outputs": [
    {
     "name": "stdout",
     "output_type": "stream",
     "text": [
      "[[-0.36585443]\n",
      " [ 1.48742676]\n",
      " [ 0.41253323]\n",
      " [-0.18658572]\n",
      " [-0.01992668]\n",
      " [ 0.00490917]]\n"
     ]
    },
    {
     "data": {
      "image/png": "[encoded data removed]",
      "text/plain": [
       "<Figure size 432x288 with 1 Axes>"
      ]
     },
     "metadata": {
      "needs_background": "light"
     },
     "output_type": "display_data"
    }
   ],
   "source": [
    "# 1000 pts in range btwn -5,5\n",
    "model_x = np.linspace(-5,5,1000)\n",
    "\n",
    "# pass xs through 5th degree polynomial\n",
    "model_x_aug = new_col(model_x,5)\n",
    "\n",
    "# apply weights\n",
    "model_y = model_x_aug.dot(theta)\n",
    "\n",
    "#plot\n",
    "plt.scatter(model_x, model_y)\n",
    "plt.scatter(x,y)\n",
    "print(theta)"
   ]
  },
  {
   "cell_type": "markdown",
   "metadata": {},
   "source": [
    "## Different Model Degrees\n",
    "Try this for n = (2, 5, 10, and 100).  Plot the resulting models."
   ]
  },
  {
   "cell_type": "code",
   "execution_count": null,
   "metadata": {},
   "outputs": [],
   "source": []
  },
  {
   "cell_type": "code",
   "execution_count": null,
   "metadata": {},
   "outputs": [],
   "source": []
  },
  {
   "cell_type": "code",
   "execution_count": null,
   "metadata": {},
   "outputs": [],
   "source": []
  },
  {
   "cell_type": "code",
   "execution_count": null,
   "metadata": {},
   "outputs": [],
   "source": []
  }
 ],
 "metadata": {
  "kernelspec": {
   "display_name": "Python 3",
   "language": "python",
   "name": "python3"
  },
  "language_info": {
   "codemirror_mode": {
    "name": "ipython",
    "version": 3
   },
   "file_extension": ".py",
   "mimetype": "text/x-python",
   "name": "python",
   "nbconvert_exporter": "python",
   "pygments_lexer": "ipython3",
   "version": "3.7.0"
  }
 },
 "nbformat": 4,
 "nbformat_minor": 2
}
