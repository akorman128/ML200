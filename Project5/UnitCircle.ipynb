{
 "cells": [
  {
   "cell_type": "code",
   "execution_count": 1,
   "metadata": {},
   "outputs": [
    {
     "name": "stderr",
     "output_type": "stream",
     "text": [
      "/anaconda3/lib/python3.7/importlib/_bootstrap.py:219: RuntimeWarning: compiletime version 3.6 of module 'tensorflow.python.framework.fast_tensor_util' does not match runtime version 3.7\n",
      "  return f(*args, **kwds)\n"
     ]
    }
   ],
   "source": [
    "%matplotlib inline\n",
    "import matplotlib\n",
    "import matplotlib.pyplot as plt\n",
    "\n",
    "import numpy as np\n",
    "import tensorflow as tf\n",
    "\n",
    "tf.reset_default_graph()"
   ]
  },
  {
   "cell_type": "code",
   "execution_count": 2,
   "metadata": {},
   "outputs": [],
   "source": [
    "\n",
    "num_pts = 3\n",
    "num_dim = 2\n",
    "\n",
    "#feed variable with shape of coordinates 3 pairs by 2 long\n",
    "pts = tf.Variable(2*np.random.rand(num_pts,num_dim)-1, name=\"pts\")"
   ]
  },
  {
   "cell_type": "code",
   "execution_count": 3,
   "metadata": {},
   "outputs": [],
   "source": [
    "def cost_on_circle(pts, num_pts):\n",
    "    cost = 0\n",
    "    for i in range(num_pts):\n",
    "#         x = pts[i,0]\n",
    "#         y = pts[i,1]\n",
    "#         f = abs( tf.math.sqrt( x**2 + y**2 ) -1)\n",
    "#         f = abs(tf.norm(x**2 + y**2) -1)\n",
    "        f = abs(tf.norm(pts[i,:])-1)\n",
    "        cost += f\n",
    "    return cost\n"
   ]
  },
  {
   "cell_type": "code",
   "execution_count": 4,
   "metadata": {},
   "outputs": [],
   "source": [
    "\n",
    "def cost_maxdist(pts, num_pts):\n",
    "    cost = 0\n",
    "    for i in range(num_pts):\n",
    "#         x = pts[i,0]\n",
    "#         y = pts[i,1]\n",
    "#         x_nxt = pts[(i+1)%num_pts, 0]\n",
    "#         y_nxt = pts[(i+1)%num_pts, 1]\n",
    "        nxt = (i+1)%3\n",
    "#         f = tf.math.sqrt( (x_nxt - x)**2 + (y_nxt - y)**2 )\n",
    "#         f = tf.norm(x_nxt - x)**2 + tf.norm(y_nxt - y)**2\n",
    "        f = tf.norm(pts[nxt,:] - pts[i,:])\n",
    "        cost -= f\n",
    "    return cost\n"
   ]
  },
  {
   "cell_type": "code",
   "execution_count": 5,
   "metadata": {},
   "outputs": [],
   "source": [
    "def cost_maxdist2(pts, num_pts):\n",
    "    cost = 0\n",
    "    for i in range(num_pts):\n",
    "#         x = pts[i,0]\n",
    "#         y = pts[i,1]\n",
    "        for j in range(num_pts):\n",
    "#             x_nxt = pts[j,0]\n",
    "#             y_nxt = pts[j,1]\n",
    "            if i != j: # would be 0\n",
    "#                 f = tf.math.sqrt( (x_nxt - x)**2 + (y_nxt - y)**2 )\n",
    "        #         f = tf.norm(x_nxt - x)**2 + tf.norm(y_nxt - y)**2\n",
    "                f = tf.norm(pts[j,:] - pts[i,:])\n",
    "                cost -= f\n",
    "    return cost"
   ]
  },
  {
   "cell_type": "code",
   "execution_count": 6,
   "metadata": {},
   "outputs": [],
   "source": [
    "alpha = 10\n",
    "beta = 1\n",
    "zeta = 1\n",
    "\n",
    "cost = cost_on_circle(pts, num_pts) * alpha + cost_maxdist(pts, num_pts) * beta + cost_maxdist2(pts, num_pts) * zeta\n"
   ]
  },
  {
   "cell_type": "code",
   "execution_count": 7,
   "metadata": {
    "scrolled": true
   },
   "outputs": [],
   "source": [
    "learning_rate = 1e-2\n",
    "optimizer = tf.train.AdamOptimizer(learning_rate=learning_rate)\n",
    "training_op = optimizer.minimize(cost)"
   ]
  },
  {
   "cell_type": "code",
   "execution_count": 8,
   "metadata": {},
   "outputs": [
    {
     "name": "stdout",
     "output_type": "stream",
     "text": [
      "Epoch 0 Cost = -1.8883602360321312\n",
      "Epoch 10 Cost = -5.840480843518578\n",
      "Epoch 20 Cost = -7.720969369249072\n",
      "Epoch 30 Cost = -9.711517048971576\n",
      "Epoch 40 Cost = -12.02973858734219\n",
      "Epoch 50 Cost = -14.283591413584563\n",
      "Epoch 60 Cost = -14.417985555746718\n",
      "Epoch 70 Cost = -14.589858483772701\n",
      "Epoch 80 Cost = -14.957791768973745\n",
      "Epoch 90 Cost = -14.996573835202797\n",
      "Epoch 100 Cost = -15.104811439286223\n",
      "Epoch 110 Cost = -15.179811370794612\n",
      "Epoch 120 Cost = -15.22082886230901\n",
      "Epoch 130 Cost = -15.260956522992888\n",
      "Epoch 140 Cost = -15.315228243980725\n",
      "Epoch 150 Cost = -15.353654947654006\n",
      "Epoch 160 Cost = -15.372715589320132\n",
      "Epoch 170 Cost = -15.36704482047304\n",
      "Epoch 180 Cost = -15.417254848046367\n",
      "Epoch 190 Cost = -15.41471144043763\n",
      "Epoch 200 Cost = -15.428148720124277\n",
      "Epoch 210 Cost = -15.449735652145524\n",
      "Epoch 220 Cost = -15.475669314152576\n",
      "Epoch 230 Cost = -15.484067429133157\n",
      "Epoch 240 Cost = -15.479028735388956\n",
      "Epoch 250 Cost = -15.48019054879918\n",
      "Epoch 260 Cost = -15.521710595996193\n",
      "Epoch 270 Cost = -15.519338111609272\n",
      "Epoch 280 Cost = -15.513295491504078\n",
      "Epoch 290 Cost = -15.540701089246157\n",
      "Epoch 300 Cost = -15.526625621221683\n",
      "Epoch 310 Cost = -15.542830613597214\n",
      "Epoch 320 Cost = -15.52209426645872\n",
      "Epoch 330 Cost = -15.551018179883492\n",
      "Epoch 340 Cost = -15.547033240049721\n",
      "Epoch 350 Cost = -15.556977156325651\n",
      "Epoch 360 Cost = -15.541528502644383\n",
      "Epoch 370 Cost = -15.533137426992095\n",
      "Epoch 380 Cost = -15.563420011273799\n",
      "Epoch 390 Cost = -15.532090437183212\n",
      "Epoch 400 Cost = -15.520118126218591\n",
      "Epoch 410 Cost = -15.535706713594369\n",
      "Epoch 420 Cost = -15.49674177014682\n",
      "Epoch 430 Cost = -15.549781018813771\n",
      "Epoch 440 Cost = -15.530318725894656\n",
      "Epoch 450 Cost = -15.510576769029232\n",
      "Epoch 460 Cost = -15.520124250478503\n",
      "Epoch 470 Cost = -15.513424636161123\n",
      "Epoch 480 Cost = -15.547939363264863\n",
      "Epoch 490 Cost = -15.539106586054942\n",
      "Epoch 500 Cost = -15.504767317862921\n",
      "Epoch 510 Cost = -15.521060902199842\n",
      "Epoch 520 Cost = -15.541676629850691\n",
      "Epoch 530 Cost = -15.564052469463057\n",
      "Epoch 540 Cost = -15.510675970823081\n",
      "Epoch 550 Cost = -15.544644428802146\n",
      "Epoch 560 Cost = -15.564334567220568\n",
      "Epoch 570 Cost = -15.575388254520016\n",
      "Epoch 580 Cost = -15.558701253522687\n",
      "Epoch 590 Cost = -15.56880504585208\n",
      "Epoch 600 Cost = -15.543804974641613\n",
      "Epoch 610 Cost = -15.5176736638486\n",
      "Epoch 620 Cost = -15.544531463861562\n",
      "Epoch 630 Cost = -15.570680424562038\n",
      "Epoch 640 Cost = -15.571089749999006\n",
      "Epoch 650 Cost = -15.555126935130176\n",
      "Epoch 660 Cost = -15.527062540634361\n",
      "Epoch 670 Cost = -15.531618164774592\n",
      "Epoch 680 Cost = -15.538003122551457\n",
      "Epoch 690 Cost = -15.500792793123406\n",
      "Epoch 700 Cost = -15.520431347565246\n",
      "Epoch 710 Cost = -15.539980694381589\n",
      "Epoch 720 Cost = -15.554125620407879\n",
      "Epoch 730 Cost = -15.540485123643954\n",
      "Epoch 740 Cost = -15.569726908506265\n",
      "Epoch 750 Cost = -15.543496152788105\n",
      "Epoch 760 Cost = -15.521812377806103\n",
      "Epoch 770 Cost = -15.486453346176436\n",
      "Epoch 780 Cost = -15.546859237174786\n",
      "Epoch 790 Cost = -15.550159456395285\n",
      "Epoch 800 Cost = -15.563824974386996\n",
      "Epoch 810 Cost = -15.55770756766221\n",
      "Epoch 820 Cost = -15.574141152656217\n",
      "Epoch 830 Cost = -15.554152530358103\n",
      "Epoch 840 Cost = -15.564112788704525\n",
      "Epoch 850 Cost = -15.559585016102467\n",
      "Epoch 860 Cost = -15.559921142133888\n",
      "Epoch 870 Cost = -15.561906908916223\n",
      "Epoch 880 Cost = -15.5310232042105\n",
      "Epoch 890 Cost = -15.5496653816142\n",
      "Epoch 900 Cost = -15.493327530922237\n",
      "Epoch 910 Cost = -15.560993618347219\n",
      "Epoch 920 Cost = -15.521550780186198\n",
      "Epoch 930 Cost = -15.536692393178846\n",
      "Epoch 940 Cost = -15.523409865500886\n",
      "Epoch 950 Cost = -15.53108572739324\n",
      "Epoch 960 Cost = -15.53986393698194\n",
      "Epoch 970 Cost = -15.524595349688497\n",
      "Epoch 980 Cost = -15.5353097698968\n",
      "Epoch 990 Cost = -15.525870681066543\n",
      "Best points:\n",
      "[[-0.25596297  0.97481175]\n",
      " [ 0.96533769 -0.26136833]\n",
      " [-0.712548   -0.70506219]]\n"
     ]
    }
   ],
   "source": [
    "n_epochs = 1000\n",
    "init = tf.global_variables_initializer()\n",
    "\n",
    "with tf.Session() as sess:\n",
    "    init.run()\n",
    "    \n",
    "    for epoch in range(n_epochs):\n",
    "        if epoch % 10 == 0:\n",
    "            print(\"Epoch\", epoch, \"Cost =\", cost.eval())\n",
    "        sess.run(training_op)\n",
    "    \n",
    "    best_pts = pts.eval()\n",
    "\n",
    "print(\"Best points:\")\n",
    "print(best_pts)"
   ]
  },
  {
   "cell_type": "code",
   "execution_count": 9,
   "metadata": {},
   "outputs": [
    {
     "data": {
      "text/plain": [
       "<matplotlib.collections.PathCollection at 0xb22850080>"
      ]
     },
     "execution_count": 9,
     "metadata": {},
     "output_type": "execute_result"
    },
    {
     "data": {
      "image/png": "[encoded data removed]",
      "text/plain": [
       "<Figure size 432x288 with 1 Axes>"
      ]
     },
     "metadata": {
      "needs_background": "light"
     },
     "output_type": "display_data"
    }
   ],
   "source": [
    "t = np.linspace(0,np.pi*2,100)\n",
    "plt.plot(np.cos(t), np.sin(t), linewidth=1)\n",
    "plt.axis('equal')\n",
    "xs = best_pts[:,0]\n",
    "ys = best_pts[:,1]\n",
    "plt.scatter(xs,ys,color='red')"
   ]
  },
  {
   "cell_type": "code",
   "execution_count": null,
   "metadata": {},
   "outputs": [],
   "source": []
  }
 ],
 "metadata": {
  "kernelspec": {
   "display_name": "Python 3",
   "language": "python",
   "name": "python3"
  },
  "language_info": {
   "codemirror_mode": {
    "name": "ipython",
    "version": 3
   },
   "file_extension": ".py",
   "mimetype": "text/x-python",
   "name": "python",
   "nbconvert_exporter": "python",
   "pygments_lexer": "ipython3",
   "version": "3.7.0"
  }
 },
 "nbformat": 4,
 "nbformat_minor": 2
}
