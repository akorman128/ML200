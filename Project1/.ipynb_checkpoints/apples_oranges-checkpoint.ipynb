{
 "cells": [
  {
   "cell_type": "code",
   "execution_count": 3,
   "metadata": {},
   "outputs": [],
   "source": [
    "import numpy as np\n",
    "import pandas as pd\n",
    "import matplotlib.pyplot as plt\n"
   ]
  },
  {
   "cell_type": "code",
   "execution_count": 4,
   "metadata": {},
   "outputs": [
    {
     "data": {
      "text/html": [
       "<div>\n",
       "<style scoped>\n",
       "    .dataframe tbody tr th:only-of-type {\n",
       "        vertical-align: middle;\n",
       "    }\n",
       "\n",
       "    .dataframe tbody tr th {\n",
       "        vertical-align: top;\n",
       "    }\n",
       "\n",
       "    .dataframe thead th {\n",
       "        text-align: right;\n",
       "    }\n",
       "</style>\n",
       "<table border=\"1\" class=\"dataframe\">\n",
       "  <thead>\n",
       "    <tr style=\"text-align: right;\">\n",
       "      <th></th>\n",
       "      <th>Vit. A</th>\n",
       "      <th>Vit. C</th>\n",
       "    </tr>\n",
       "    <tr>\n",
       "      <th>Label</th>\n",
       "      <th></th>\n",
       "      <th></th>\n",
       "    </tr>\n",
       "  </thead>\n",
       "  <tbody>\n",
       "    <tr>\n",
       "      <th>Apple</th>\n",
       "      <td>0.50</td>\n",
       "      <td>0.10</td>\n",
       "    </tr>\n",
       "    <tr>\n",
       "      <th>Orange</th>\n",
       "      <td>0.22</td>\n",
       "      <td>0.76</td>\n",
       "    </tr>\n",
       "    <tr>\n",
       "      <th>Apple</th>\n",
       "      <td>0.65</td>\n",
       "      <td>0.05</td>\n",
       "    </tr>\n",
       "    <tr>\n",
       "      <th>Orange</th>\n",
       "      <td>0.20</td>\n",
       "      <td>0.81</td>\n",
       "    </tr>\n",
       "    <tr>\n",
       "      <th>Orange</th>\n",
       "      <td>0.17</td>\n",
       "      <td>0.75</td>\n",
       "    </tr>\n",
       "  </tbody>\n",
       "</table>\n",
       "</div>"
      ],
      "text/plain": [
       "        Vit. A  Vit. C\n",
       "Label                 \n",
       "Apple     0.50    0.10\n",
       "Orange    0.22    0.76\n",
       "Apple     0.65    0.05\n",
       "Orange    0.20    0.81\n",
       "Orange    0.17    0.75"
      ]
     },
     "execution_count": 4,
     "metadata": {},
     "output_type": "execute_result"
    }
   ],
   "source": [
    "ao = pd.read_csv('Fruit_data.csv', index_col='Label')\n",
    "ao.head() #displays beginning of dataset"
   ]
  },
  {
   "cell_type": "code",
   "execution_count": 10,
   "metadata": {},
   "outputs": [
    {
     "data": {
      "image/png": "[encoded data removed]",
      "text/plain": [
       "<Figure size 432x288 with 1 Axes>"
      ]
     },
     "metadata": {
      "needs_background": "light"
     },
     "output_type": "display_data"
    }
   ],
   "source": [
    "# Good reminder for panda data selection ––> https://www.shanelynn.ie/select-pandas-dataframe-rows-and-columns-using-iloc-loc-and-ix/        \n",
    "\n",
    "\n",
    "# locates the column \"Apple\" via index\n",
    "apples = ao.loc[\"Apple\"]\n",
    "\n",
    "# gets location by integer [row, column]... setting x/y coordinates\n",
    "xA = apples.iloc[:, 0]\n",
    "yA = apples.iloc[:, 1]\n",
    "\n",
    "oranges = ao.loc[\"Orange\"] \n",
    "xO = oranges.iloc[:, 0]\n",
    "yO = oranges.iloc[:, 1]\n",
    "\n",
    "#plotting function\n",
    "#Param: x pts, y pts, graph plotting on, color of dot, shape of dot, labels...\n",
    "def plot(x, y, ax, marker, color, title, x_label, y_label):\n",
    "\n",
    "    ax.grid(color='w') # color of grid\n",
    "    ax.set_axisbelow(True) # plots grid below points\n",
    "    \n",
    "    ax.set_facecolor('#eaeff7')\n",
    "    ax.set_title(title)\n",
    "    ax.set_xlabel(x_label)\n",
    "    ax.set_ylabel(y_label)\n",
    "    \n",
    "    ax.scatter(x, y, marker=marker, color=color) # make scatter plot\n",
    "\n",
    "fig, ax = plt.subplots()\n",
    "\n",
    "\n",
    "#calling plot function\n",
    "plot(xA, yA, ax, 'o', 'red', 'Fruit Vitamin Content', 'Vit. A', 'Vit. C')\n",
    "plot(xO, yO, ax, 's', 'orange', 'Fruit Vitamin Content', 'Vit. A', 'Vit. C')\n",
    "\n",
    "\n",
    "\n"
   ]
  },
  {
   "cell_type": "code",
   "execution_count": null,
   "metadata": {},
   "outputs": [],
   "source": []
  }
 ],
 "metadata": {
  "kernelspec": {
   "display_name": "Python 3",
   "language": "python",
   "name": "python3"
  },
  "language_info": {
   "codemirror_mode": {
    "name": "ipython",
    "version": 3
   },
   "file_extension": ".py",
   "mimetype": "text/x-python",
   "name": "python",
   "nbconvert_exporter": "python",
   "pygments_lexer": "ipython3",
   "version": "3.7.0"
  }
 },
 "nbformat": 4,
 "nbformat_minor": 2
}
